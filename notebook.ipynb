{
 "cells": [
  {
   "cell_type": "markdown",
   "id": "e3f41b0e-6500-4907-b0db-14649f02eff3",
   "metadata": {},
   "source": [
    "# Dogs Skin Disease Prediction Model"
   ]
  },
  {
   "cell_type": "code",
   "execution_count": 25,
   "id": "446f3ba8-82e8-4775-8b34-bd6ca6b555c1",
   "metadata": {},
   "outputs": [],
   "source": [
    "import os\n",
    "from pathlib import Path\n",
    "import tensorflow as tf\n",
    "from tensorflow.keras.preprocessing.image import ImageDataGenerator, img_to_array, load_img"
   ]
  },
  {
   "cell_type": "markdown",
   "id": "57ab96a0-60da-4ff0-8653-6e1c7fa3967c",
   "metadata": {},
   "source": [
    "base_dir = Path(\"Dataset\")\n",
    "IMG_HEIGHT = 244\n",
    "IMG_WIDTH = 244\n",
    "BATCH_SIZE = 8"
   ]
  },
  {
   "cell_type": "markdown",
   "id": "39718dac-a5dd-4e00-a99a-9e90b4f93e04",
   "metadata": {},
   "source": [
    "## Preprocessing "
   ]
  },
  {
   "cell_type": "markdown",
   "id": "8d780f00-aef1-48bc-9ffb-1c1d13f30d91",
   "metadata": {},
   "source": [
    "### Data Augmentation"
   ]
  },
  {
   "cell_type": "code",
   "execution_count": 27,
   "id": "6a4ab203-9ef4-4cf7-a810-5229db51c9af",
   "metadata": {},
   "outputs": [],
   "source": [
    "train_datagen = ImageDataGenerator(\n",
    "   rescale=1.0/255,\n",
    "   rotation_range=40,\n",
    "   width_shift_range=0.3,\n",
    "   height_shift_range=0.3,\n",
    "   shear_range=0.3,\n",
    "   zoom_range=0.3,\n",
    "   horizontal_flip=True,\n",
    "   vertical_flip=True,\n",
    "   brightness_range=[0.7,1.3],\n",
    "   channel_shift_range=50,\n",
    "   fill_mode='nearest',\n",
    "   validation_split=0.2\n",
    ")"
   ]
  },
  {
   "cell_type": "markdown",
   "id": "6fe37573-a018-4de1-b8a3-47bab6d5f039",
   "metadata": {},
   "source": [
    "### Multiple Augmented Versions"
   ]
  },
  {
   "cell_type": "code",
   "execution_count": 29,
   "id": "77a6efad-d40a-407e-a406-87563de94003",
   "metadata": {},
   "outputs": [],
   "source": [
    "def augment_directory(source_dir, num_augmented=5):\n",
    "   for class_dir in source_dir.iterdir():\n",
    "       if not (class_dir / 'augmented').exists():\n",
    "            augment_directory(base_dir)\n",
    "       if class_dir.is_dir():\n",
    "           aug_dir = class_dir / 'augmented'\n",
    "           aug_dir.mkdir(exist_ok=True)\n",
    "           \n",
    "           for img_path in class_dir.glob('*.[jp][pn][g]'):\n",
    "               img = load_img(img_path, target_size=(IMG_HEIGHT, IMG_WIDTH))\n",
    "               x = img_to_array(img)\n",
    "               x = x.reshape((1,) + x.shape)\n",
    "               \n",
    "               i = 0\n",
    "               for batch in train_datagen.flow(x, batch_size=1,\n",
    "                                             save_to_dir=aug_dir,\n",
    "                                             save_prefix=f'aug_{img_path.stem}',\n",
    "                                             save_format='jpg'):\n",
    "                   i += 1\n",
    "                   if i >= num_augmented:\n",
    "                       break"
   ]
  },
  {
   "cell_type": "markdown",
   "id": "2a1c9ce8-37b3-422d-9424-4be06948cb5c",
   "metadata": {},
   "source": [
    "### Creating generators"
   ]
  },
  {
   "cell_type": "code",
   "execution_count": 23,
   "id": "6e1b6380-0b92-4e3f-98ad-24fc8e80a80d",
   "metadata": {},
   "outputs": [
    {
     "ename": "NameError",
     "evalue": "name 'IMG_HEIGHT' is not defined",
     "output_type": "error",
     "traceback": [
      "\u001b[0;31m---------------------------------------------------------------------------\u001b[0m",
      "\u001b[0;31mNameError\u001b[0m                                 Traceback (most recent call last)",
      "Cell \u001b[0;32mIn[23], line 4\u001b[0m\n\u001b[1;32m      1\u001b[0m \u001b[38;5;66;03m#Creating generators\u001b[39;00m\n\u001b[1;32m      2\u001b[0m train_generator \u001b[38;5;241m=\u001b[39m train_datagen\u001b[38;5;241m.\u001b[39mflow_from_directory(\n\u001b[1;32m      3\u001b[0m    base_dir,\n\u001b[0;32m----> 4\u001b[0m    target_size\u001b[38;5;241m=\u001b[39m(IMG_HEIGHT, IMG_WIDTH),\n\u001b[1;32m      5\u001b[0m    batch_size\u001b[38;5;241m=\u001b[39mBATCH_SIZE,\n\u001b[1;32m      6\u001b[0m    class_mode\u001b[38;5;241m=\u001b[39m\u001b[38;5;124m'\u001b[39m\u001b[38;5;124mcategorical\u001b[39m\u001b[38;5;124m'\u001b[39m,\n\u001b[1;32m      7\u001b[0m    subset\u001b[38;5;241m=\u001b[39m\u001b[38;5;124m'\u001b[39m\u001b[38;5;124mtraining\u001b[39m\u001b[38;5;124m'\u001b[39m\n\u001b[1;32m      8\u001b[0m )\n\u001b[1;32m     10\u001b[0m validation_generator \u001b[38;5;241m=\u001b[39m train_datagen\u001b[38;5;241m.\u001b[39mflow_from_directory(\n\u001b[1;32m     11\u001b[0m    base_dir,\n\u001b[1;32m     12\u001b[0m    target_size\u001b[38;5;241m=\u001b[39m(IMG_HEIGHT, IMG_WIDTH),\n\u001b[0;32m   (...)\u001b[0m\n\u001b[1;32m     15\u001b[0m    subset\u001b[38;5;241m=\u001b[39m\u001b[38;5;124m'\u001b[39m\u001b[38;5;124mvalidation\u001b[39m\u001b[38;5;124m'\u001b[39m\n\u001b[1;32m     16\u001b[0m )\n",
      "\u001b[0;31mNameError\u001b[0m: name 'IMG_HEIGHT' is not defined"
     ]
    }
   ],
   "source": [
    "#Creating generators\n",
    "train_generator = train_datagen.flow_from_directory(\n",
    "   base_dir,\n",
    "   target_size=(IMG_HEIGHT, IMG_WIDTH),\n",
    "   batch_size=BATCH_SIZE,\n",
    "   class_mode='categorical',\n",
    "   subset='training'\n",
    ")\n",
    "\n",
    "validation_generator = train_datagen.flow_from_directory(\n",
    "   base_dir,\n",
    "   target_size=(IMG_HEIGHT, IMG_WIDTH),\n",
    "   batch_size=BATCH_SIZE,\n",
    "   class_mode='categorical', \n",
    "   subset='validation'\n",
    ")"
   ]
  },
  {
   "cell_type": "code",
   "execution_count": 11,
   "id": "9ea8ec7d-7b5b-4e3e-9067-5f5e4e11feb1",
   "metadata": {},
   "outputs": [
    {
     "name": "stdout",
     "output_type": "stream",
     "text": [
      "Found 438 images belonging to 5 classes.\n",
      "Found 106 images belonging to 5 classes.\n",
      "Classes: {'Allergies': 0, 'Autoimmune': 1, 'Healthy': 2, 'Infections': 3, 'Parasites': 4}\n",
      "Training samples: 438\n",
      "Validation samples: 106\n"
     ]
    }
   ],
   "source": [
    "print(\"Classes:\", train_generator.class_indices)\n",
    "print(\"Training samples:\", train_generator.samples)\n",
    "print(\"Validation samples:\", validation_generator.samples)"
   ]
  },
  {
   "cell_type": "markdown",
   "id": "d4352997-8461-411b-baad-961413d0420d",
   "metadata": {},
   "source": [
    "## Model Training and Evaluation"
   ]
  },
  {
   "cell_type": "code",
   "execution_count": null,
   "id": "68cb3961-94ee-4b28-aa35-01fe7c6fed75",
   "metadata": {},
   "outputs": [],
   "source": [
    "from tensorflow.keras.applications import MobileNetV2\n",
    "from tensorflow.keras import layers, models\n",
    "from tensorflow.keras.optimizers import Adam\n",
    "from tensorflow.keras.callbacks import EarlyStopping\n",
    "from sklearn.metrics import confusion_matrix, classification_report\n",
    "import seaborn as sns\n",
    "import matplotlib.pyplot as plt\n",
    "from sklearn.model_selection import KFold\n",
    "import numpy as np\n",
    "import json"
   ]
  },
  {
   "cell_type": "markdown",
   "id": "9f357135-3bb2-4d94-9712-e296e1a2be7b",
   "metadata": {},
   "source": [
    "### Getting all images and labels "
   ]
  },
  {
   "cell_type": "markdown",
   "id": "7ad8f5be-1064-47f5-ae0e-79a68e579ae8",
   "metadata": {},
   "source": [
    "As we have augmented images we need to collect the data from both "
   ]
  },
  {
   "cell_type": "code",
   "execution_count": null,
   "id": "ad5445cf-d55f-45e6-b1c2-f8377ce888b9",
   "metadata": {},
   "outputs": [],
   "source": [
    "#Preparing data generators that include both original and augmented images\n",
    "all_data = []\n",
    "all_labels = []\n",
    "\n",
    "#Collecting data from original and augmented images\n",
    "for class_dir in base_dir.iterdir():\n",
    "    if class_dir.is_dir():\n",
    "        class_label = class_dir.name\n",
    "        class_index = train_generator.class_indices[class_label]\n",
    "        \n",
    "        #Processing original images\n",
    "        for img_path in class_dir.glob('*.[jp][pn][g]'):\n",
    "            img = load_img(img_path, target_size=(IMG_HEIGHT, IMG_WIDTH))\n",
    "            x = img_to_array(img)\n",
    "            x = x / 255.0  # Normalize\n",
    "            all_data.append(x)\n",
    "            label = np.zeros(len(train_generator.class_indices))\n",
    "            label[class_index] = 1\n",
    "            all_labels.append(label)\n",
    "        \n",
    "        #Processing augmented images\n",
    "        aug_dir = class_dir / 'augmented'\n",
    "        if aug_dir.exists():\n",
    "            for img_path in aug_dir.glob('*.[jp][pn][g]'):\n",
    "                img = load_img(img_path, target_size=(IMG_HEIGHT, IMG_WIDTH))\n",
    "                x = img_to_array(img)\n",
    "                x = x / 255.0  # Normalize\n",
    "                all_data.append(x)\n",
    "                label = np.zeros(len(train_generator.class_indices))\n",
    "                label[class_index] = 1\n",
    "                all_labels.append(label)\n",
    "\n",
    "all_data = np.array(all_data)\n",
    "all_labels = np.array(all_labels)"
   ]
  },
  {
   "cell_type": "markdown",
   "id": "c4f253ec-3e45-4bbd-9c1a-b8d7dae427bc",
   "metadata": {},
   "source": [
    "### Creating the model"
   ]
  },
  {
   "cell_type": "code",
   "execution_count": null,
   "id": "32bafda6-5ef9-4dd0-b897-62057b48ac20",
   "metadata": {},
   "outputs": [],
   "source": [
    "#Initializing model and training parameters\n",
    "kf = KFold(n_splits=5, shuffle=True, random_state=42)\n",
    "best_model = None\n",
    "best_accuracy = 0\n",
    "best_fold = None\n",
    "accuracies = []\n",
    "fold = 1"
   ]
  },
  {
   "cell_type": "code",
   "execution_count": null,
   "id": "5af869e8-55fb-4e66-bd7e-8dbef57679fe",
   "metadata": {},
   "outputs": [],
   "source": [
    "#Creating model\n",
    "base_model = MobileNetV2(input_shape=(IMG_HEIGHT, IMG_WIDTH, 3),\n",
    "                        include_top=False,\n",
    "                        weights='imagenet')\n",
    "base_model.trainable = False\n",
    "\n",
    "model = models.Sequential([\n",
    "    base_model,\n",
    "    layers.GlobalAveragePooling2D(),\n",
    "    layers.Dense(128, activation='relu'),\n",
    "    layers.Dropout(0.5),\n",
    "    layers.Dense(len(train_generator.class_indices), activation='softmax')\n",
    "])\n",
    "\n",
    "model.compile(optimizer=Adam(learning_rate=0.001),\n",
    "             loss='categorical_crossentropy',\n",
    "             metrics=['accuracy'])\n",
    "\n",
    "early_stopping = EarlyStopping(monitor='val_loss', patience=5, restore_best_weights=True)"
   ]
  },
  {
   "cell_type": "markdown",
   "id": "ace06e26-b832-421f-9448-84a1a1b89801",
   "metadata": {},
   "source": [
    "### Training the model with k-fold Cross-Validation"
   ]
  },
  {
   "cell_type": "code",
   "execution_count": null,
   "id": "c6070bf9-c874-4410-9fcc-fe4f83dfb665",
   "metadata": {},
   "outputs": [],
   "source": [
    "#Training with cross-validation\n",
    "for train_index, val_index in kf.split(all_data):\n",
    "    print(f\"Training Fold {fold}...\")\n",
    "    x_train, x_val = all_data[train_index], all_data[val_index]\n",
    "    y_train, y_val = all_labels[train_index], all_labels[val_index]\n",
    "    \n",
    "    history = model.fit(\n",
    "        x_train, y_train,\n",
    "        validation_data=(x_val, y_val),\n",
    "        epochs=20,\n",
    "        batch_size=BATCH_SIZE,\n",
    "        callbacks=[early_stopping],\n",
    "        verbose=1\n",
    "    )\n",
    "    \n",
    "    eval_result = model.evaluate(x_val, y_val, verbose=0)\n",
    "    accuracies.append(eval_result[1])\n",
    "    print(f\"Fold {fold} Accuracy: {eval_result[1]}\")\n",
    "    \n",
    "    if eval_result[1] > best_accuracy:\n",
    "        best_accuracy = eval_result[1]\n",
    "        best_fold = fold\n",
    "        best_model = tf.keras.models.clone_model(model)\n",
    "        best_model.set_weights(model.get_weights())\n",
    "    \n",
    "    fold += 1\n"
   ]
  },
  {
   "cell_type": "code",
   "execution_count": null,
   "id": "cc6b4f18-2678-42ce-82ae-d16f63760719",
   "metadata": {},
   "outputs": [],
   "source": [
    "print(f\"Cross-Validation Accuracy: {np.mean(accuracies)} ± {np.std(accuracies)}\")\n",
    "print(f\"Best Fold: {best_fold} with Accuracy: {best_accuracy}\")"
   ]
  },
  {
   "cell_type": "markdown",
   "id": "20ca5b0b-8a44-4da5-bd7f-aaac43843cfc",
   "metadata": {},
   "source": [
    "### Saving the best model in a keras file"
   ]
  },
  {
   "cell_type": "code",
   "execution_count": null,
   "id": "3f583b60-34f4-4b07-ac41-11b027db1d83",
   "metadata": {},
   "outputs": [],
   "source": [
    "if best_model is not None:\n",
    "    best_model.save('best_model.keras')\n",
    "    print(\"Best model saved as 'best_model.keras'\")\n",
    "\n",
    "with open('class_indices.json', 'w') as f:\n",
    "    json.dump(train_generator.class_indices, f)\n",
    "    print(\"Class indices saved as 'class_indices.json'\")"
   ]
  },
  {
   "cell_type": "markdown",
   "id": "58b89cb2-e7d3-48dc-8206-62aed03ab7c2",
   "metadata": {},
   "source": [
    "### Evaluating the model"
   ]
  },
  {
   "cell_type": "code",
   "execution_count": null,
   "id": "f5e13f01-80d6-48b4-9405-258488700c97",
   "metadata": {},
   "outputs": [],
   "source": [
    "#Confusion Matrix\n",
    "y_pred = best_model.predict(x_val)\n",
    "y_pred_classes = np.argmax(y_pred, axis=1)\n",
    "y_true = np.argmax(y_val, axis=1)\n",
    "\n",
    "conf_matrix = confusion_matrix(y_true, y_pred_classes)\n",
    "plt.figure(figsize=(8, 6))\n",
    "sns.heatmap(conf_matrix, annot=True, fmt=\"d\", cmap=\"Blues\", \n",
    "           xticklabels=train_generator.class_indices.keys(),\n",
    "           yticklabels=train_generator.class_indices.keys())\n",
    "plt.title(\"Confusion Matrix\")\n",
    "plt.ylabel(\"True Labels\")\n",
    "plt.xlabel(\"Predicted Labels\")\n",
    "plt.show()"
   ]
  },
  {
   "cell_type": "code",
   "execution_count": 13,
   "id": "98ecbf0d-25a3-49cc-91ae-51a02eebe2d9",
   "metadata": {},
   "outputs": [
    {
     "name": "stderr",
     "output_type": "stream",
     "text": [
      "/var/folders/ys/ndlktzd129z_51vvh7tqhc8m0000gn/T/ipykernel_66215/2656963688.py:56: UserWarning: `input_shape` is undefined or non-square, or `rows` is not in [96, 128, 160, 192, 224]. Weights for input shape (224, 224) will be loaded as the default.\n",
      "  base_model = MobileNetV2(input_shape=(IMG_HEIGHT, IMG_WIDTH, 3),\n"
     ]
    },
    {
     "name": "stdout",
     "output_type": "stream",
     "text": [
      "Training Fold 1...\n",
      "Epoch 1/20\n",
      "\u001b[1m54/54\u001b[0m \u001b[32m━━━━━━━━━━━━━━━━━━━━\u001b[0m\u001b[37m\u001b[0m \u001b[1m7s\u001b[0m 90ms/step - accuracy: 0.3353 - loss: 1.8595 - val_accuracy: 0.7222 - val_loss: 0.9357\n",
      "Epoch 2/20\n",
      "\u001b[1m54/54\u001b[0m \u001b[32m━━━━━━━━━━━━━━━━━━━━\u001b[0m\u001b[37m\u001b[0m \u001b[1m4s\u001b[0m 78ms/step - accuracy: 0.6238 - loss: 0.9958 - val_accuracy: 0.7222 - val_loss: 0.7544\n",
      "Epoch 3/20\n",
      "\u001b[1m54/54\u001b[0m \u001b[32m━━━━━━━━━━━━━━━━━━━━\u001b[0m\u001b[37m\u001b[0m \u001b[1m4s\u001b[0m 79ms/step - accuracy: 0.7160 - loss: 0.7604 - val_accuracy: 0.7315 - val_loss: 0.6404\n",
      "Epoch 4/20\n",
      "\u001b[1m54/54\u001b[0m \u001b[32m━━━━━━━━━━━━━━━━━━━━\u001b[0m\u001b[37m\u001b[0m \u001b[1m4s\u001b[0m 77ms/step - accuracy: 0.8571 - loss: 0.4550 - val_accuracy: 0.8426 - val_loss: 0.4968\n",
      "Epoch 5/20\n",
      "\u001b[1m54/54\u001b[0m \u001b[32m━━━━━━━━━━━━━━━━━━━━\u001b[0m\u001b[37m\u001b[0m \u001b[1m4s\u001b[0m 77ms/step - accuracy: 0.8669 - loss: 0.3963 - val_accuracy: 0.8796 - val_loss: 0.4319\n",
      "Epoch 6/20\n",
      "\u001b[1m54/54\u001b[0m \u001b[32m━━━━━━━━━━━━━━━━━━━━\u001b[0m\u001b[37m\u001b[0m \u001b[1m4s\u001b[0m 83ms/step - accuracy: 0.9050 - loss: 0.2772 - val_accuracy: 0.8611 - val_loss: 0.4143\n",
      "Epoch 7/20\n",
      "\u001b[1m54/54\u001b[0m \u001b[32m━━━━━━━━━━━━━━━━━━━━\u001b[0m\u001b[37m\u001b[0m \u001b[1m4s\u001b[0m 81ms/step - accuracy: 0.9342 - loss: 0.2303 - val_accuracy: 0.8519 - val_loss: 0.3787\n",
      "Epoch 8/20\n",
      "\u001b[1m54/54\u001b[0m \u001b[32m━━━━━━━━━━━━━━━━━━━━\u001b[0m\u001b[37m\u001b[0m \u001b[1m4s\u001b[0m 80ms/step - accuracy: 0.9554 - loss: 0.1812 - val_accuracy: 0.8611 - val_loss: 0.4041\n",
      "Epoch 9/20\n",
      "\u001b[1m54/54\u001b[0m \u001b[32m━━━━━━━━━━━━━━━━━━━━\u001b[0m\u001b[37m\u001b[0m \u001b[1m4s\u001b[0m 80ms/step - accuracy: 0.9513 - loss: 0.1510 - val_accuracy: 0.8611 - val_loss: 0.3424\n",
      "Epoch 10/20\n",
      "\u001b[1m54/54\u001b[0m \u001b[32m━━━━━━━━━━━━━━━━━━━━\u001b[0m\u001b[37m\u001b[0m \u001b[1m4s\u001b[0m 78ms/step - accuracy: 0.9591 - loss: 0.1392 - val_accuracy: 0.8889 - val_loss: 0.3459\n",
      "Epoch 11/20\n",
      "\u001b[1m54/54\u001b[0m \u001b[32m━━━━━━━━━━━━━━━━━━━━\u001b[0m\u001b[37m\u001b[0m \u001b[1m4s\u001b[0m 80ms/step - accuracy: 0.9607 - loss: 0.1323 - val_accuracy: 0.8426 - val_loss: 0.3774\n",
      "Epoch 12/20\n",
      "\u001b[1m54/54\u001b[0m \u001b[32m━━━━━━━━━━━━━━━━━━━━\u001b[0m\u001b[37m\u001b[0m \u001b[1m4s\u001b[0m 82ms/step - accuracy: 0.9758 - loss: 0.0988 - val_accuracy: 0.8426 - val_loss: 0.3806\n",
      "Epoch 13/20\n",
      "\u001b[1m54/54\u001b[0m \u001b[32m━━━━━━━━━━━━━━━━━━━━\u001b[0m\u001b[37m\u001b[0m \u001b[1m6s\u001b[0m 114ms/step - accuracy: 0.9624 - loss: 0.1111 - val_accuracy: 0.8796 - val_loss: 0.3460\n",
      "Epoch 14/20\n",
      "\u001b[1m54/54\u001b[0m \u001b[32m━━━━━━━━━━━━━━━━━━━━\u001b[0m\u001b[37m\u001b[0m \u001b[1m8s\u001b[0m 140ms/step - accuracy: 0.9714 - loss: 0.1028 - val_accuracy: 0.8704 - val_loss: 0.3838\n",
      "Fold 1 Accuracy: 0.8611111044883728\n",
      "Training Fold 2...\n",
      "Epoch 1/20\n",
      "\u001b[1m54/54\u001b[0m \u001b[32m━━━━━━━━━━━━━━━━━━━━\u001b[0m\u001b[37m\u001b[0m \u001b[1m5s\u001b[0m 94ms/step - accuracy: 0.8837 - loss: 0.2859 - val_accuracy: 1.0000 - val_loss: 0.0911\n",
      "Epoch 2/20\n",
      "\u001b[1m54/54\u001b[0m \u001b[32m━━━━━━━━━━━━━━━━━━━━\u001b[0m\u001b[37m\u001b[0m \u001b[1m5s\u001b[0m 100ms/step - accuracy: 0.8888 - loss: 0.2536 - val_accuracy: 0.9537 - val_loss: 0.1124\n",
      "Epoch 3/20\n",
      "\u001b[1m54/54\u001b[0m \u001b[32m━━━━━━━━━━━━━━━━━━━━\u001b[0m\u001b[37m\u001b[0m \u001b[1m5s\u001b[0m 100ms/step - accuracy: 0.9572 - loss: 0.1850 - val_accuracy: 0.9630 - val_loss: 0.1165\n",
      "Epoch 4/20\n",
      "\u001b[1m54/54\u001b[0m \u001b[32m━━━━━━━━━━━━━━━━━━━━\u001b[0m\u001b[37m\u001b[0m \u001b[1m4s\u001b[0m 82ms/step - accuracy: 0.9641 - loss: 0.1248 - val_accuracy: 0.9815 - val_loss: 0.0868\n",
      "Epoch 5/20\n",
      "\u001b[1m54/54\u001b[0m \u001b[32m━━━━━━━━━━━━━━━━━━━━\u001b[0m\u001b[37m\u001b[0m \u001b[1m6s\u001b[0m 106ms/step - accuracy: 0.9643 - loss: 0.1186 - val_accuracy: 0.9722 - val_loss: 0.1001\n",
      "Epoch 6/20\n",
      "\u001b[1m54/54\u001b[0m \u001b[32m━━━━━━━━━━━━━━━━━━━━\u001b[0m\u001b[37m\u001b[0m \u001b[1m5s\u001b[0m 87ms/step - accuracy: 0.9703 - loss: 0.1321 - val_accuracy: 0.9537 - val_loss: 0.1115\n",
      "Epoch 7/20\n",
      "\u001b[1m54/54\u001b[0m \u001b[32m━━━━━━━━━━━━━━━━━━━━\u001b[0m\u001b[37m\u001b[0m \u001b[1m5s\u001b[0m 89ms/step - accuracy: 0.9694 - loss: 0.0909 - val_accuracy: 0.9630 - val_loss: 0.0952\n",
      "Epoch 8/20\n",
      "\u001b[1m54/54\u001b[0m \u001b[32m━━━━━━━━━━━━━━━━━━━━\u001b[0m\u001b[37m\u001b[0m \u001b[1m5s\u001b[0m 97ms/step - accuracy: 0.9810 - loss: 0.0700 - val_accuracy: 0.9444 - val_loss: 0.1383\n",
      "Epoch 9/20\n",
      "\u001b[1m54/54\u001b[0m \u001b[32m━━━━━━━━━━━━━━━━━━━━\u001b[0m\u001b[37m\u001b[0m \u001b[1m6s\u001b[0m 105ms/step - accuracy: 0.9703 - loss: 0.0838 - val_accuracy: 0.9722 - val_loss: 0.1175\n",
      "Fold 2 Accuracy: 0.9814814925193787\n",
      "Training Fold 3...\n",
      "Epoch 1/20\n",
      "\u001b[1m54/54\u001b[0m \u001b[32m━━━━━━━━━━━━━━━━━━━━\u001b[0m\u001b[37m\u001b[0m \u001b[1m7s\u001b[0m 138ms/step - accuracy: 0.9663 - loss: 0.1474 - val_accuracy: 1.0000 - val_loss: 0.0389\n",
      "Epoch 2/20\n",
      "\u001b[1m54/54\u001b[0m \u001b[32m━━━━━━━━━━━━━━━━━━━━\u001b[0m\u001b[37m\u001b[0m \u001b[1m7s\u001b[0m 123ms/step - accuracy: 0.9407 - loss: 0.1719 - val_accuracy: 1.0000 - val_loss: 0.0282\n",
      "Epoch 3/20\n",
      "\u001b[1m54/54\u001b[0m \u001b[32m━━━━━━━━━━━━━━━━━━━━\u001b[0m\u001b[37m\u001b[0m \u001b[1m7s\u001b[0m 139ms/step - accuracy: 0.9704 - loss: 0.1278 - val_accuracy: 1.0000 - val_loss: 0.0236\n",
      "Epoch 4/20\n",
      "\u001b[1m54/54\u001b[0m \u001b[32m━━━━━━━━━━━━━━━━━━━━\u001b[0m\u001b[37m\u001b[0m \u001b[1m6s\u001b[0m 107ms/step - accuracy: 0.9636 - loss: 0.1108 - val_accuracy: 1.0000 - val_loss: 0.0215\n",
      "Epoch 5/20\n",
      "\u001b[1m54/54\u001b[0m \u001b[32m━━━━━━━━━━━━━━━━━━━━\u001b[0m\u001b[37m\u001b[0m \u001b[1m6s\u001b[0m 103ms/step - accuracy: 0.9844 - loss: 0.0989 - val_accuracy: 1.0000 - val_loss: 0.0228\n",
      "Epoch 6/20\n",
      "\u001b[1m54/54\u001b[0m \u001b[32m━━━━━━━━━━━━━━━━━━━━\u001b[0m\u001b[37m\u001b[0m \u001b[1m6s\u001b[0m 110ms/step - accuracy: 0.9704 - loss: 0.0933 - val_accuracy: 1.0000 - val_loss: 0.0209\n",
      "Epoch 7/20\n",
      "\u001b[1m54/54\u001b[0m \u001b[32m━━━━━━━━━━━━━━━━━━━━\u001b[0m\u001b[37m\u001b[0m \u001b[1m6s\u001b[0m 103ms/step - accuracy: 0.9854 - loss: 0.0587 - val_accuracy: 1.0000 - val_loss: 0.0264\n",
      "Epoch 8/20\n",
      "\u001b[1m54/54\u001b[0m \u001b[32m━━━━━━━━━━━━━━━━━━━━\u001b[0m\u001b[37m\u001b[0m \u001b[1m6s\u001b[0m 114ms/step - accuracy: 0.9729 - loss: 0.0877 - val_accuracy: 1.0000 - val_loss: 0.0167\n",
      "Epoch 9/20\n",
      "\u001b[1m54/54\u001b[0m \u001b[32m━━━━━━━━━━━━━━━━━━━━\u001b[0m\u001b[37m\u001b[0m \u001b[1m6s\u001b[0m 105ms/step - accuracy: 0.9843 - loss: 0.0584 - val_accuracy: 1.0000 - val_loss: 0.0173\n",
      "Epoch 10/20\n",
      "\u001b[1m54/54\u001b[0m \u001b[32m━━━━━━━━━━━━━━━━━━━━\u001b[0m\u001b[37m\u001b[0m \u001b[1m5s\u001b[0m 100ms/step - accuracy: 0.9883 - loss: 0.0581 - val_accuracy: 1.0000 - val_loss: 0.0160\n",
      "Epoch 11/20\n",
      "\u001b[1m54/54\u001b[0m \u001b[32m━━━━━━━━━━━━━━━━━━━━\u001b[0m\u001b[37m\u001b[0m \u001b[1m6s\u001b[0m 116ms/step - accuracy: 0.9846 - loss: 0.0638 - val_accuracy: 1.0000 - val_loss: 0.0130\n",
      "Epoch 12/20\n",
      "\u001b[1m54/54\u001b[0m \u001b[32m━━━━━━━━━━━━━━━━━━━━\u001b[0m\u001b[37m\u001b[0m \u001b[1m6s\u001b[0m 112ms/step - accuracy: 0.9744 - loss: 0.0590 - val_accuracy: 0.9907 - val_loss: 0.0278\n",
      "Epoch 13/20\n",
      "\u001b[1m54/54\u001b[0m \u001b[32m━━━━━━━━━━━━━━━━━━━━\u001b[0m\u001b[37m\u001b[0m \u001b[1m6s\u001b[0m 106ms/step - accuracy: 0.9898 - loss: 0.0379 - val_accuracy: 0.9907 - val_loss: 0.0262\n",
      "Epoch 14/20\n",
      "\u001b[1m54/54\u001b[0m \u001b[32m━━━━━━━━━━━━━━━━━━━━\u001b[0m\u001b[37m\u001b[0m \u001b[1m5s\u001b[0m 99ms/step - accuracy: 0.9799 - loss: 0.0683 - val_accuracy: 1.0000 - val_loss: 0.0161\n",
      "Epoch 15/20\n",
      "\u001b[1m54/54\u001b[0m \u001b[32m━━━━━━━━━━━━━━━━━━━━\u001b[0m\u001b[37m\u001b[0m \u001b[1m6s\u001b[0m 103ms/step - accuracy: 0.9965 - loss: 0.0344 - val_accuracy: 0.9907 - val_loss: 0.0310\n",
      "Epoch 16/20\n",
      "\u001b[1m54/54\u001b[0m \u001b[32m━━━━━━━━━━━━━━━━━━━━\u001b[0m\u001b[37m\u001b[0m \u001b[1m5s\u001b[0m 100ms/step - accuracy: 0.9749 - loss: 0.0598 - val_accuracy: 1.0000 - val_loss: 0.0209\n",
      "Fold 3 Accuracy: 1.0\n",
      "Training Fold 4...\n",
      "Epoch 1/20\n",
      "\u001b[1m54/54\u001b[0m \u001b[32m━━━━━━━━━━━━━━━━━━━━\u001b[0m\u001b[37m\u001b[0m \u001b[1m6s\u001b[0m 117ms/step - accuracy: 0.9749 - loss: 0.0654 - val_accuracy: 0.9907 - val_loss: 0.0118\n",
      "Epoch 2/20\n",
      "\u001b[1m54/54\u001b[0m \u001b[32m━━━━━━━━━━━━━━━━━━━━\u001b[0m\u001b[37m\u001b[0m \u001b[1m8s\u001b[0m 149ms/step - accuracy: 0.9849 - loss: 0.0618 - val_accuracy: 0.9907 - val_loss: 0.0158\n",
      "Epoch 3/20\n",
      "\u001b[1m54/54\u001b[0m \u001b[32m━━━━━━━━━━━━━━━━━━━━\u001b[0m\u001b[37m\u001b[0m \u001b[1m6s\u001b[0m 106ms/step - accuracy: 0.9962 - loss: 0.0362 - val_accuracy: 0.9907 - val_loss: 0.0140\n",
      "Epoch 4/20\n",
      "\u001b[1m54/54\u001b[0m \u001b[32m━━━━━━━━━━━━━━━━━━━━\u001b[0m\u001b[37m\u001b[0m \u001b[1m6s\u001b[0m 119ms/step - accuracy: 0.9924 - loss: 0.0325 - val_accuracy: 0.9907 - val_loss: 0.0269\n",
      "Epoch 5/20\n",
      "\u001b[1m54/54\u001b[0m \u001b[32m━━━━━━━━━━━━━━━━━━━━\u001b[0m\u001b[37m\u001b[0m \u001b[1m6s\u001b[0m 120ms/step - accuracy: 0.9937 - loss: 0.0276 - val_accuracy: 0.9907 - val_loss: 0.0291\n",
      "Epoch 6/20\n",
      "\u001b[1m54/54\u001b[0m \u001b[32m━━━━━━━━━━━━━━━━━━━━\u001b[0m\u001b[37m\u001b[0m \u001b[1m6s\u001b[0m 102ms/step - accuracy: 0.9989 - loss: 0.0321 - val_accuracy: 0.9907 - val_loss: 0.0390\n",
      "Fold 4 Accuracy: 0.9907407164573669\n",
      "Training Fold 5...\n",
      "Epoch 1/20\n",
      "\u001b[1m54/54\u001b[0m \u001b[32m━━━━━━━━━━━━━━━━━━━━\u001b[0m\u001b[37m\u001b[0m \u001b[1m6s\u001b[0m 107ms/step - accuracy: 0.9813 - loss: 0.0576 - val_accuracy: 1.0000 - val_loss: 0.0047\n",
      "Epoch 2/20\n",
      "\u001b[1m54/54\u001b[0m \u001b[32m━━━━━━━━━━━━━━━━━━━━\u001b[0m\u001b[37m\u001b[0m \u001b[1m6s\u001b[0m 111ms/step - accuracy: 0.9769 - loss: 0.0710 - val_accuracy: 1.0000 - val_loss: 0.0055\n",
      "Epoch 3/20\n",
      "\u001b[1m54/54\u001b[0m \u001b[32m━━━━━━━━━━━━━━━━━━━━\u001b[0m\u001b[37m\u001b[0m \u001b[1m9s\u001b[0m 173ms/step - accuracy: 0.9865 - loss: 0.0476 - val_accuracy: 1.0000 - val_loss: 0.0043\n",
      "Epoch 4/20\n",
      "\u001b[1m54/54\u001b[0m \u001b[32m━━━━━━━━━━━━━━━━━━━━\u001b[0m\u001b[37m\u001b[0m \u001b[1m6s\u001b[0m 118ms/step - accuracy: 0.9848 - loss: 0.0506 - val_accuracy: 1.0000 - val_loss: 0.0079\n",
      "Epoch 5/20\n",
      "\u001b[1m54/54\u001b[0m \u001b[32m━━━━━━━━━━━━━━━━━━━━\u001b[0m\u001b[37m\u001b[0m \u001b[1m8s\u001b[0m 152ms/step - accuracy: 0.9634 - loss: 0.1067 - val_accuracy: 1.0000 - val_loss: 0.0084\n",
      "Epoch 6/20\n",
      "\u001b[1m54/54\u001b[0m \u001b[32m━━━━━━━━━━━━━━━━━━━━\u001b[0m\u001b[37m\u001b[0m \u001b[1m6s\u001b[0m 109ms/step - accuracy: 0.9842 - loss: 0.0573 - val_accuracy: 0.9907 - val_loss: 0.0230\n",
      "Epoch 7/20\n",
      "\u001b[1m54/54\u001b[0m \u001b[32m━━━━━━━━━━━━━━━━━━━━\u001b[0m\u001b[37m\u001b[0m \u001b[1m6s\u001b[0m 121ms/step - accuracy: 0.9837 - loss: 0.0472 - val_accuracy: 1.0000 - val_loss: 0.0069\n",
      "Epoch 8/20\n",
      "\u001b[1m54/54\u001b[0m \u001b[32m━━━━━━━━━━━━━━━━━━━━\u001b[0m\u001b[37m\u001b[0m \u001b[1m6s\u001b[0m 110ms/step - accuracy: 0.9815 - loss: 0.0575 - val_accuracy: 0.9815 - val_loss: 0.0399\n",
      "Fold 5 Accuracy: 1.0\n",
      "Cross-Validation Accuracy: 0.9666666626930237 ± 0.053222622760193065\n",
      "Best Fold: 3 with Accuracy: 1.0\n",
      "Best model saved as 'best_model.keras'\n",
      "Class indices saved as 'class_indices.json'\n",
      "\u001b[1m4/4\u001b[0m \u001b[32m━━━━━━━━━━━━━━━━━━━━\u001b[0m\u001b[37m\u001b[0m \u001b[1m2s\u001b[0m 451ms/step\n"
     ]
    },
    {
     "data": {
      "image/png": "[encoded data removed]",
      "text/plain": [
       "<Figure size 800x600 with 2 Axes>"
      ]
     },
     "metadata": {},
     "output_type": "display_data"
    },
    {
     "name": "stdout",
     "output_type": "stream",
     "text": [
      "\n",
      "Classification Report:\n",
      "              precision    recall  f1-score   support\n",
      "\n",
      "   Allergies       1.00      1.00      1.00        34\n",
      "  Autoimmune       1.00      1.00      1.00        20\n",
      "     Healthy       1.00      1.00      1.00        13\n",
      "  Infections       1.00      1.00      1.00        20\n",
      "   Parasites       1.00      1.00      1.00        21\n",
      "\n",
      "    accuracy                           1.00       108\n",
      "   macro avg       1.00      1.00      1.00       108\n",
      "weighted avg       1.00      1.00      1.00       108\n",
      "\n"
     ]
    }
   ],
   "source": [
    "print(\"\\nClassification Report:\")\n",
    "print(classification_report(y_true, y_pred_classes, \n",
    "     target_names=train_generator.class_indices.keys()))"
   ]
  },
  {
   "cell_type": "code",
   "execution_count": null,
   "id": "d38dbce3-263d-43fa-8aa3-41c963232009",
   "metadata": {},
   "outputs": [],
   "source": []
  }
 ],
 "metadata": {
  "kernelspec": {
   "display_name": "Python 3 (ipykernel)",
   "language": "python",
   "name": "python3"
  },
  "language_info": {
   "codemirror_mode": {
    "name": "ipython",
    "version": 3
   },
   "file_extension": ".py",
   "mimetype": "text/x-python",
   "name": "python",
   "nbconvert_exporter": "python",
   "pygments_lexer": "ipython3",
   "version": "3.12.4"
  }
 },
 "nbformat": 4,
 "nbformat_minor": 5
}
