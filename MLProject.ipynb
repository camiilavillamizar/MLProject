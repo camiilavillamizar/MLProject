{
 "cells": [
  {
   "cell_type": "markdown",
   "id": "c377166b-5a08-43d8-8040-abdcc2e30714",
   "metadata": {},
   "source": [
    "# Skin Disease Detection in Dogs to Prevent Infections and Enable Timely Intervention.\n",
    "\n",
    "- Aryan Dutt\n",
    "- Prince\n",
    "- Maria Camila Villamizar "
   ]
  },
  {
   "cell_type": "markdown",
   "id": "27b8a59e-c63a-40f3-a5d7-1d1487e63a1f",
   "metadata": {},
   "source": [
    "## Preprocessing "
   ]
  },
  {
   "cell_type": "code",
   "execution_count": null,
   "id": "05a339ba-b404-468f-938d-5210d9c8519e",
   "metadata": {},
   "outputs": [],
   "source": []
  }
 ],
 "metadata": {
  "kernelspec": {
   "display_name": "Python 3 (ipykernel)",
   "language": "python",
   "name": "python3"
  },
  "language_info": {
   "codemirror_mode": {
    "name": "ipython",
    "version": 3
   },
   "file_extension": ".py",
   "mimetype": "text/x-python",
   "name": "python",
   "nbconvert_exporter": "python",
   "pygments_lexer": "ipython3",
   "version": "3.12.4"
  }
 },
 "nbformat": 4,
 "nbformat_minor": 5
}
