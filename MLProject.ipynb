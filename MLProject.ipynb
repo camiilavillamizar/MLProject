{
 "cells": [
  {
   "cell_type": "markdown",
   "id": "c377166b-5a08-43d8-8040-abdcc2e30714",
   "metadata": {},
   "source": [
    "# Skin Disease Detection in Dogs to Prevent Infections and Enable Timely Intervention.\n",
    "\n",
    "- Aryan Dutt\n",
    "- Prince\n",
    "- Maria Camila Villamizar "
   ]
  },
  {
   "cell_type": "code",
   "execution_count": 2,
   "id": "62d04e2f-14d9-44b9-a206-c2d7b33ae059",
   "metadata": {},
   "outputs": [],
   "source": [
    "#pip install kagglehub"
   ]
  },
  {
   "cell_type": "code",
   "execution_count": 3,
   "id": "02d9fc08-3019-4079-a2a6-3007ca3c682f",
   "metadata": {},
   "outputs": [
    {
     "name": "stdout",
     "output_type": "stream",
     "text": [
      "Path to dataset files: C:\\Users\\camii\\.cache\\kagglehub\\datasets\\yashmotiani\\dogs-skin-disease-dataset\\versions\\1\n"
     ]
    }
   ],
   "source": [
    "import kagglehub\n",
    "\n",
    "# Download latest version\n",
    "path = kagglehub.dataset_download(\"yashmotiani/dogs-skin-disease-dataset\")\n",
    "\n",
    "print(\"Path to dataset files:\", path)"
   ]
  },
  {
   "cell_type": "code",
   "execution_count": 4,
   "id": "d95c8221-80b1-450d-a89c-85448ca23cb2",
   "metadata": {},
   "outputs": [
    {
     "name": "stdout",
     "output_type": "stream",
     "text": [
      "Dataset successfully copied to C:\\Users\\camii\\Documents\\U\\Term 1\\Term 1\\Machine Learning\\Project\\MLProject\\Dogs.\n",
      "Contents of the new dataset folder: ['Bacterial_dermatosis', 'Fungal_infections', 'Healthy', 'Hypersensitivity_allergic_dermatosis']\n"
     ]
    }
   ],
   "source": [
    "import os\n",
    "import shutil\n",
    "\n",
    "def move_dataset_to_notebook_directory(source_subfolder, target_folder_name=\"Dogs\"):\n",
    "    \"\"\"\n",
    "    Copies the dataset folder dynamically to the directory where the notebook is located.\n",
    "\n",
    "    Args:\n",
    "        source_subfolder (str): Subfolder name in the original dataset structure.\n",
    "        target_folder_name (str): Name of the folder to create in the notebook directory for the dataset.\n",
    "\n",
    "    Returns:\n",
    "        str: Path to the copied dataset folder in the notebook directory.\n",
    "    \"\"\"\n",
    "    # Get the current notebook directory\n",
    "    notebook_dir = os.getcwd()\n",
    "\n",
    "    # Locate the source dataset folder dynamically from the kagglehub cache structure\n",
    "    kagglehub_path = os.path.expanduser(\"~/.cache/kagglehub/datasets/yashmotiani/dogs-skin-disease-dataset/versions/1\")\n",
    "    source_path = os.path.join(kagglehub_path, source_subfolder)\n",
    "\n",
    "    # Check if source folder exists\n",
    "    if not os.path.exists(source_path):\n",
    "        raise FileNotFoundError(f\"The source folder '{source_subfolder}' does not exist at {source_path}.\")\n",
    "\n",
    "    # Target path in the notebook directory\n",
    "    target_path = os.path.join(notebook_dir, target_folder_name)\n",
    "\n",
    "    # Check if the target folder already exists\n",
    "    if os.path.exists(target_path):\n",
    "        print(f\"The folder '{target_folder_name}' already exists in {notebook_dir}.\")\n",
    "        return target_path\n",
    "\n",
    "    # Copy the dataset to the notebook directory\n",
    "    shutil.copytree(source_path, target_path)\n",
    "    print(f\"Dataset successfully copied to {target_path}.\")\n",
    "    \n",
    "    return target_path\n",
    "\n",
    "# Example usage:\n",
    "# Name of the subfolder containing the dataset (e.g., \"Dogs\")\n",
    "source_subfolder = \"Dogs\"\n",
    "\n",
    "# Move the dataset to the notebook directory\n",
    "new_data_path = move_dataset_to_notebook_directory(source_subfolder)\n",
    "\n",
    "# Verify contents of the new dataset folder\n",
    "print(\"Contents of the new dataset folder:\", os.listdir(new_data_path))"
   ]
  },
  {
   "cell_type": "markdown",
   "id": "27b8a59e-c63a-40f3-a5d7-1d1487e63a1f",
   "metadata": {},
   "source": [
    "## Preprocessing "
   ]
  },
  {
   "cell_type": "code",
   "execution_count": 6,
   "id": "05a339ba-b404-468f-938d-5210d9c8519e",
   "metadata": {},
   "outputs": [
    {
     "name": "stdout",
     "output_type": "stream",
     "text": [
      "Contents of the dataset directory:\n",
      "['Bacterial_dermatosis', 'Fungal_infections', 'Healthy', 'Hypersensitivity_allergic_dermatosis']\n"
     ]
    }
   ],
   "source": [
    "# Dynamically set the path to the 'Dogs' folder in the same directory as the notebook\n",
    "current_dir = os.getcwd()  # Get the current working directory\n",
    "data_path = os.path.join(current_dir, \"Dogs\")\n",
    "\n",
    "# Verify the directory exists and show its contents\n",
    "if not os.path.exists(data_path):\n",
    "    raise FileNotFoundError(f\"The dataset folder 'Dogs' does not exist in {current_dir}. Please add the dataset.\")\n",
    "print(\"Contents of the dataset directory:\")\n",
    "print(os.listdir(data_path))"
   ]
  },
  {
   "cell_type": "code",
   "execution_count": 7,
   "id": "0dfcbc44-5c55-473c-a1b7-78061059bd22",
   "metadata": {},
   "outputs": [],
   "source": [
    "#pip install opencv-python"
   ]
  },
  {
   "cell_type": "code",
   "execution_count": 8,
   "id": "c9b6ddb8-14da-4c03-ad22-8fbf269a4241",
   "metadata": {},
   "outputs": [],
   "source": [
    "#pip install opencv-contrib-python"
   ]
  },
  {
   "cell_type": "code",
   "execution_count": 9,
   "id": "cf10b64c-17f4-4d5e-8b60-b8e68ac9f9e4",
   "metadata": {},
   "outputs": [],
   "source": [
    "import os\n",
    "import numpy as np\n",
    "import cv2\n",
    "from sklearn.model_selection import train_test_split"
   ]
  },
  {
   "cell_type": "code",
   "execution_count": 10,
   "id": "79d3a015-e027-4e22-b678-af90ba36f9d8",
   "metadata": {},
   "outputs": [],
   "source": [
    "def preprocess_images(data_path, img_size=(128, 128)):\n",
    "    \"\"\"\n",
    "    Load images, resize them, normalize, and split into train and test sets.\n",
    "\n",
    "    Args:\n",
    "        data_path (str): Path to the dataset directory.\n",
    "        img_size (tuple): Target size for image resizing.\n",
    "\n",
    "    Returns:\n",
    "        tuple: Training and testing datasets (images and labels).\n",
    "    \"\"\"\n",
    "    images = []\n",
    "    labels = []\n",
    "    class_names = os.listdir(data_path)\n",
    "    \n",
    "    for label, class_name in enumerate(class_names):\n",
    "        class_dir = os.path.join(data_path, class_name)\n",
    "        if os.path.isdir(class_dir):\n",
    "            for file in os.listdir(class_dir):\n",
    "                file_path = os.path.join(class_dir, file)\n",
    "                if file.endswith(('.jpg', '.jpeg', '.png')):\n",
    "                    # Read image\n",
    "                    img = cv2.imread(file_path)\n",
    "                    if img is not None:  # Ensure the file is a valid image\n",
    "                        # Resize image to uniform dimensions\n",
    "                        img = cv2.resize(img, img_size)\n",
    "                        # Convert image to RGB (if needed)\n",
    "                        img = cv2.cvtColor(img, cv2.COLOR_BGR2RGB)\n",
    "                        # Append to lists\n",
    "                        images.append(img)\n",
    "                        labels.append(label)\n",
    "    \n",
    "    # Check if images list is empty\n",
    "    if not images:\n",
    "        raise ValueError(\"No valid images found in the dataset directory. Please check your dataset.\")\n",
    "\n",
    "    # Convert to numpy arrays for further processing\n",
    "    images = np.array(images)\n",
    "    labels = np.array(labels)\n",
    "\n",
    "    # Normalize pixel values to range [0, 1]\n",
    "    images = images / 255.0\n",
    "\n",
    "    # Split dataset into 80% training and 20% testing\n",
    "    X_train, X_test, y_train, y_test = train_test_split(images, labels, test_size=0.2, random_state=42)\n",
    "\n",
    "    return X_train, X_test, y_train, y_test, class_names"
   ]
  },
  {
   "cell_type": "code",
   "execution_count": 11,
   "id": "1f1a0260-cd52-4e15-8777-02654ec1770a",
   "metadata": {},
   "outputs": [
    {
     "name": "stdout",
     "output_type": "stream",
     "text": [
      "Training set size: 351, Testing set size: 88\n",
      "Classes: ['Bacterial_dermatosis', 'Fungal_infections', 'Healthy', 'Hypersensitivity_allergic_dermatosis']\n"
     ]
    }
   ],
   "source": [
    "X_train, X_test, y_train, y_test, class_names = preprocess_images(data_path)\n",
    "\n",
    "# Print dataset information\n",
    "print(f\"Training set size: {len(X_train)}, Testing set size: {len(X_test)}\")\n",
    "print(f\"Classes: {class_names}\")"
   ]
  },
  {
   "cell_type": "markdown",
   "id": "50ed6b9e-1a9d-48df-8425-f840607843d4",
   "metadata": {},
   "source": [
    "### Augmentating data"
   ]
  },
  {
   "cell_type": "code",
   "execution_count": 13,
   "id": "b32fd99f-2d02-4688-9779-20f7c837ee0c",
   "metadata": {},
   "outputs": [],
   "source": [
    "#pip install tensorflow"
   ]
  },
  {
   "cell_type": "code",
   "execution_count": 14,
   "id": "c523498b-4f72-4dde-b4a2-73db94fd65b5",
   "metadata": {},
   "outputs": [],
   "source": [
    "from tensorflow.keras.preprocessing.image import ImageDataGenerator\n",
    "\n",
    "def augment_data(X_train, y_train, batch_size=32):\n",
    "    \"\"\"\n",
    "    Augment the training data to prevent overfitting.\n",
    "\n",
    "    Args:\n",
    "        X_train (np.array): Training images.\n",
    "        y_train (np.array): Training labels.\n",
    "        batch_size (int): Number of samples per batch.\n",
    "\n",
    "    Returns:\n",
    "        generator: Augmented data generator.\n",
    "    \"\"\"\n",
    "    # Define augmentation parameters\n",
    "    datagen = ImageDataGenerator(\n",
    "        rotation_range=20,          # Rotate images by up to 20 degrees\n",
    "        width_shift_range=0.1,      # Shift width by 10%\n",
    "        height_shift_range=0.1,     # Shift height by 10%\n",
    "        shear_range=0.1,            # Shear transformation\n",
    "        zoom_range=0.2,             # Zoom in and out\n",
    "        horizontal_flip=True,       # Flip images horizontally\n",
    "        fill_mode=\"nearest\"         # Fill missing pixels\n",
    "    )\n",
    "\n",
    "    # Fit the generator to the training data\n",
    "    generator = datagen.flow(X_train, y_train, batch_size=batch_size)\n",
    "\n",
    "    return generator\n",
    "\n",
    "# Example usage\n",
    "batch_size = 32\n",
    "train_generator = augment_data(X_train, y_train, batch_size)\n"
   ]
  },
  {
   "cell_type": "markdown",
   "id": "45082475-e973-4291-8a1e-bba3ed2000db",
   "metadata": {},
   "source": [
    "## Training the model "
   ]
  },
  {
   "cell_type": "code",
   "execution_count": 16,
   "id": "7c445a67-19c4-4580-8512-e6541dd850a9",
   "metadata": {},
   "outputs": [],
   "source": [
    "from tensorflow.keras.models import Sequential\n",
    "from tensorflow.keras.layers import Conv2D, MaxPooling2D, Flatten, Dense, Dropout\n",
    "from tensorflow.keras.utils import to_categorical"
   ]
  },
  {
   "cell_type": "code",
   "execution_count": 35,
   "id": "202eb1a3-bc1a-48e5-bd82-793f6c2ac86c",
   "metadata": {},
   "outputs": [],
   "source": [
    "from tensorflow.keras.models import Sequential\n",
    "from tensorflow.keras.layers import Conv2D, MaxPooling2D, Flatten, Dense, Dropout\n",
    "from tensorflow.keras.utils import to_categorical\n",
    "\n",
    "def create_cnn(input_shape, num_classes):\n",
    "    \"\"\"\n",
    "    Create a Convolutional Neural Network (CNN) model.\n",
    "\n",
    "    Args:\n",
    "        input_shape (tuple): Shape of the input images (height, width, channels).\n",
    "        num_classes (int): Number of output classes.\n",
    "\n",
    "    Returns:\n",
    "        model: A compiled CNN model.\n",
    "    \"\"\"\n",
    "    model = Sequential()\n",
    "\n",
    "    # Add convolutional layers\n",
    "    model.add(Conv2D(32, (3, 3), activation='relu', input_shape=input_shape))\n",
    "    model.add(MaxPooling2D(pool_size=(2, 2)))\n",
    "    \n",
    "    model.add(Conv2D(64, (3, 3), activation='relu'))\n",
    "    model.add(MaxPooling2D(pool_size=(2, 2)))\n",
    "    \n",
    "    model.add(Conv2D(128, (3, 3), activation='relu'))\n",
    "    model.add(MaxPooling2D(pool_size=(2, 2)))\n",
    "    \n",
    "    # Flatten the output\n",
    "    model.add(Flatten())\n",
    "    \n",
    "    # Fully connected layers\n",
    "    model.add(Dense(128, activation='relu'))\n",
    "    model.add(Dropout(0.5))  # Dropout to reduce overfitting\n",
    "    model.add(Dense(num_classes, activation='softmax'))  # Output layer\n",
    "\n",
    "    # Compile the model\n",
    "    model.compile(optimizer='adam', loss='categorical_crossentropy', metrics=['accuracy'])\n",
    "\n",
    "    return model"
   ]
  },
  {
   "cell_type": "code",
   "execution_count": 37,
   "id": "cda4ceef-637f-40c8-83d8-84893a014194",
   "metadata": {},
   "outputs": [
    {
     "name": "stderr",
     "output_type": "stream",
     "text": [
      "C:\\Users\\camii\\anaconda3\\Lib\\site-packages\\keras\\src\\layers\\convolutional\\base_conv.py:107: UserWarning: Do not pass an `input_shape`/`input_dim` argument to a layer. When using Sequential models, prefer using an `Input(shape)` object as the first layer in the model instead.\n",
      "  super().__init__(activity_regularizer=activity_regularizer, **kwargs)\n"
     ]
    },
    {
     "name": "stdout",
     "output_type": "stream",
     "text": [
      "Epoch 1/10\n",
      "\u001b[1m11/11\u001b[0m \u001b[32m━━━━━━━━━━━━━━━━━━━━\u001b[0m\u001b[37m\u001b[0m \u001b[1m5s\u001b[0m 237ms/step - accuracy: 0.2847 - loss: 1.5947 - val_accuracy: 0.2955 - val_loss: 1.4044\n",
      "Epoch 2/10\n",
      "\u001b[1m11/11\u001b[0m \u001b[32m━━━━━━━━━━━━━━━━━━━━\u001b[0m\u001b[37m\u001b[0m \u001b[1m2s\u001b[0m 115ms/step - accuracy: 0.3620 - loss: 1.3523 - val_accuracy: 0.2273 - val_loss: 1.3898\n",
      "Epoch 3/10\n",
      "\u001b[1m11/11\u001b[0m \u001b[32m━━━━━━━━━━━━━━━━━━━━\u001b[0m\u001b[37m\u001b[0m \u001b[1m1s\u001b[0m 88ms/step - accuracy: 0.3344 - loss: 1.3278 - val_accuracy: 0.2841 - val_loss: 1.3708\n",
      "Epoch 4/10\n",
      "\u001b[1m11/11\u001b[0m \u001b[32m━━━━━━━━━━━━━━━━━━━━\u001b[0m\u001b[37m\u001b[0m \u001b[1m1s\u001b[0m 93ms/step - accuracy: 0.3190 - loss: 1.2859 - val_accuracy: 0.3182 - val_loss: 1.3598\n",
      "Epoch 5/10\n",
      "\u001b[1m11/11\u001b[0m \u001b[32m━━━━━━━━━━━━━━━━━━━━\u001b[0m\u001b[37m\u001b[0m \u001b[1m1s\u001b[0m 94ms/step - accuracy: 0.4136 - loss: 1.2432 - val_accuracy: 0.3068 - val_loss: 1.3400\n",
      "Epoch 6/10\n",
      "\u001b[1m11/11\u001b[0m \u001b[32m━━━━━━━━━━━━━━━━━━━━\u001b[0m\u001b[37m\u001b[0m \u001b[1m1s\u001b[0m 90ms/step - accuracy: 0.4464 - loss: 1.1821 - val_accuracy: 0.3295 - val_loss: 1.2974\n",
      "Epoch 7/10\n",
      "\u001b[1m11/11\u001b[0m \u001b[32m━━━━━━━━━━━━━━━━━━━━\u001b[0m\u001b[37m\u001b[0m \u001b[1m1s\u001b[0m 90ms/step - accuracy: 0.5036 - loss: 1.1136 - val_accuracy: 0.3977 - val_loss: 1.2331\n",
      "Epoch 8/10\n",
      "\u001b[1m11/11\u001b[0m \u001b[32m━━━━━━━━━━━━━━━━━━━━\u001b[0m\u001b[37m\u001b[0m \u001b[1m1s\u001b[0m 93ms/step - accuracy: 0.5338 - loss: 1.0965 - val_accuracy: 0.3864 - val_loss: 1.2772\n",
      "Epoch 9/10\n",
      "\u001b[1m11/11\u001b[0m \u001b[32m━━━━━━━━━━━━━━━━━━━━\u001b[0m\u001b[37m\u001b[0m \u001b[1m1s\u001b[0m 92ms/step - accuracy: 0.6281 - loss: 0.9100 - val_accuracy: 0.3977 - val_loss: 1.1943\n",
      "Epoch 10/10\n",
      "\u001b[1m11/11\u001b[0m \u001b[32m━━━━━━━━━━━━━━━━━━━━\u001b[0m\u001b[37m\u001b[0m \u001b[1m1s\u001b[0m 86ms/step - accuracy: 0.5517 - loss: 1.0276 - val_accuracy: 0.4091 - val_loss: 1.2376\n",
      "\u001b[1m3/3\u001b[0m \u001b[32m━━━━━━━━━━━━━━━━━━━━\u001b[0m\u001b[37m\u001b[0m \u001b[1m0s\u001b[0m 35ms/step - accuracy: 0.4272 - loss: 1.2156\n",
      "Test Accuracy: 0.41\n"
     ]
    }
   ],
   "source": [
    "# Convert labels to one-hot encoding\n",
    "y_train_encoded = to_categorical(y_train, num_classes=len(class_names))\n",
    "y_test_encoded = to_categorical(y_test, num_classes=len(class_names))\n",
    "\n",
    "# Create the CNN model\n",
    "input_shape = X_train.shape[1:]  # (128, 128, 3)\n",
    "model = create_cnn(input_shape, num_classes=len(class_names))\n",
    "\n",
    "# Train the model\n",
    "history = model.fit(X_train, y_train_encoded, epochs=10, validation_data=(X_test, y_test_encoded), batch_size=32)\n",
    "\n",
    "# Evaluate the model on the test set\n",
    "test_loss, test_accuracy = model.evaluate(X_test, y_test_encoded)\n",
    "print(f\"Test Accuracy: {test_accuracy:.2f}\")"
   ]
  },
  {
   "cell_type": "code",
   "execution_count": 39,
   "id": "f13cfeec-e0cf-4fdc-a44e-0ef58a5c7d6c",
   "metadata": {},
   "outputs": [
    {
     "name": "stdout",
     "output_type": "stream",
     "text": [
      "\u001b[1m3/3\u001b[0m \u001b[32m━━━━━━━━━━━━━━━━━━━━\u001b[0m\u001b[37m\u001b[0m \u001b[1m1s\u001b[0m 137ms/step\n"
     ]
    },
    {
     "data": {
      "image/png": "[encoded data removed]",
      "text/plain": [
       "<Figure size 1000x1000 with 2 Axes>"
      ]
     },
     "metadata": {},
     "output_type": "display_data"
    }
   ],
   "source": [
    "import numpy as np\n",
    "import matplotlib.pyplot as plt\n",
    "from sklearn.metrics import confusion_matrix, ConfusionMatrixDisplay\n",
    "\n",
    "# Step 1: Get the predicted classes\n",
    "y_pred = model.predict(X_test)\n",
    "y_pred_classes = np.argmax(y_pred, axis=1)  # Convert probabilities to class indices\n",
    "y_true = np.argmax(y_test_encoded, axis=1)  # Convert one-hot encoded labels to class indices\n",
    "\n",
    "# Step 2: Compute the confusion matrix\n",
    "conf_matrix = confusion_matrix(y_true, y_pred_classes)\n",
    "\n",
    "# Step 3: Display the confusion matrix with larger size\n",
    "fig, ax = plt.subplots(figsize=(10, 10))  # Adjust the figure size (width, height)\n",
    "disp = ConfusionMatrixDisplay(confusion_matrix=conf_matrix, display_labels=class_names)\n",
    "disp.plot(cmap=plt.cm.Blues, ax=ax)  # Pass the ax to the plot function\n",
    "plt.title(\"Confusion Matrix\", fontsize=16)  # Set a larger title font size\n",
    "plt.show()\n"
   ]
  },
  {
   "cell_type": "code",
   "execution_count": 41,
   "id": "5c57af49-1124-4fe3-aa63-b55fa11c8a70",
   "metadata": {},
   "outputs": [
    {
     "name": "stdout",
     "output_type": "stream",
     "text": [
      "Counter({1: 111, 2: 101, 3: 73, 0: 66})\n"
     ]
    }
   ],
   "source": [
    "from collections import Counter\n",
    "print(Counter(y_train))  # Check the distribution of samples in each class\n"
   ]
  },
  {
   "cell_type": "code",
   "execution_count": 43,
   "id": "a8044031-c827-4bd0-8df7-131df164b63c",
   "metadata": {},
   "outputs": [
    {
     "data": {
      "image/png": "[encoded data removed]",
      "text/plain": [
       "<Figure size 640x480 with 1 Axes>"
      ]
     },
     "metadata": {},
     "output_type": "display_data"
    }
   ],
   "source": [
    "import matplotlib.pyplot as plt\n",
    "plt.plot(history.history['accuracy'], label='Training Accuracy')\n",
    "plt.plot(history.history['val_accuracy'], label='Validation Accuracy')\n",
    "plt.legend()\n",
    "plt.show()\n"
   ]
  },
  {
   "cell_type": "code",
   "execution_count": null,
   "id": "8af713d0-4e6d-408b-9f92-1c6d2e78dc85",
   "metadata": {},
   "outputs": [],
   "source": []
  }
 ],
 "metadata": {
  "kernelspec": {
   "display_name": "Python 3 (ipykernel)",
   "language": "python",
   "name": "python3"
  },
  "language_info": {
   "codemirror_mode": {
    "name": "ipython",
    "version": 3
   },
   "file_extension": ".py",
   "mimetype": "text/x-python",
   "name": "python",
   "nbconvert_exporter": "python",
   "pygments_lexer": "ipython3",
   "version": "3.12.4"
  }
 },
 "nbformat": 4,
 "nbformat_minor": 5
}
